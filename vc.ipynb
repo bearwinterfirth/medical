{
 "cells": [
  {
   "cell_type": "code",
   "execution_count": null,
   "metadata": {},
   "outputs": [],
   "source": [
    "import numpy as np\n",
    "from sklearn.linear_model import LogisticRegression\n",
    "from sklearn.neighbors import KNeighborsClassifier\n",
    "from sklearn.svm import SVC\n",
    "from sklearn.ensemble import VotingClassifier\n",
    "\n",
    "clf1=LogisticRegression(l1_ratio=0.9)\n",
    "clf2=KNeighborsClassifier(n_neighbors=25)\n",
    "clf3=SVC(gamma=1, C=1, kernel=[\"rbf\"])\n",
    "\n",
    "eclf1=VotingClassifier(estimators=[(\"log\",clf1), (\"knn\",clf2), (\"svc\",clf3)],voting=\"hard\")\n",
    "eclf1.fit(snX1_train, y1_train)\n"
   ]
  }
 ],
 "metadata": {
  "language_info": {
   "name": "python"
  }
 },
 "nbformat": 4,
 "nbformat_minor": 2
}
